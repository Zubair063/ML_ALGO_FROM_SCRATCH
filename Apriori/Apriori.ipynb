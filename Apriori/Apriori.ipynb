{
 "cells": [
  {
   "cell_type": "code",
   "execution_count": 2,
   "metadata": {},
   "outputs": [],
   "source": [
    "import csv\n",
    "with open('C:/Users/Zubair/Desktop/groceries.csv', 'r') as fd:\n",
    "    reader = csv.reader(fd)\n",
    "    list1=list(reader)"
   ]
  },
  {
   "cell_type": "code",
   "execution_count": 4,
   "metadata": {},
   "outputs": [],
   "source": [
    "#list1"
   ]
  },
  {
   "cell_type": "code",
   "execution_count": 5,
   "metadata": {},
   "outputs": [
    {
     "data": {
      "text/plain": [
       "{'citrus fruit': 814,\n",
       " 'semi-finished bread': 174,\n",
       " 'margarine': 576,\n",
       " 'ready soups': 18,\n",
       " 'tropical fruit': 1032,\n",
       " 'yogurt': 1372,\n",
       " 'coffee': 571,\n",
       " 'whole milk': 2513,\n",
       " 'pip fruit': 744,\n",
       " 'cream cheese': 390,\n",
       " 'meat spreads': 42,\n",
       " 'other vegetables': 1903,\n",
       " 'condensed milk': 101,\n",
       " 'long life bakery product': 368,\n",
       " 'butter': 545,\n",
       " 'rice': 75,\n",
       " 'abrasive cleaner': 35,\n",
       " 'rolls/buns': 1809,\n",
       " 'UHT-milk': 329,\n",
       " 'bottled beer': 792,\n",
       " 'liquor (appetizer)': 78,\n",
       " 'potted plants': 170,\n",
       " 'cereals': 56,\n",
       " 'white bread': 414,\n",
       " 'bottled water': 1087,\n",
       " 'chocolate': 488,\n",
       " 'curd': 524,\n",
       " 'flour': 171,\n",
       " 'dishes': 173,\n",
       " 'beef': 516,\n",
       " 'frankfurter': 580,\n",
       " 'soda': 1715,\n",
       " 'chicken': 422,\n",
       " 'sugar': 333,\n",
       " 'fruit/vegetable juice': 711,\n",
       " 'newspapers': 785,\n",
       " 'packaged fruit/vegetables': 128,\n",
       " 'specialty bar': 269,\n",
       " 'butter milk': 275,\n",
       " 'pastry': 875,\n",
       " 'processed cheese': 163,\n",
       " 'detergent': 189,\n",
       " 'root vegetables': 1072,\n",
       " 'frozen dessert': 106,\n",
       " 'sweet spreads': 89,\n",
       " 'salty snack': 372,\n",
       " 'waffles': 378,\n",
       " 'candy': 294,\n",
       " 'bathroom cleaner': 27,\n",
       " 'canned beer': 764,\n",
       " 'sausage': 924,\n",
       " 'brown bread': 638,\n",
       " 'shopping bags': 969,\n",
       " 'beverages': 256,\n",
       " 'hamburger meat': 327,\n",
       " 'spices': 51,\n",
       " 'hygiene articles': 324,\n",
       " 'napkins': 515,\n",
       " 'pork': 567,\n",
       " 'berries': 327,\n",
       " 'whipped/sour cream': 705,\n",
       " 'artif. sweetener': 32,\n",
       " 'grapes': 220,\n",
       " 'dessert': 365,\n",
       " 'zwieback': 68,\n",
       " 'domestic eggs': 624,\n",
       " 'spread cheese': 110,\n",
       " 'misc. beverages': 279,\n",
       " 'hard cheese': 241,\n",
       " 'cat food': 229,\n",
       " 'ham': 256,\n",
       " 'turkey': 80,\n",
       " 'baking powder': 174,\n",
       " 'pickled vegetables': 176,\n",
       " 'oil': 276,\n",
       " 'chewing gum': 207,\n",
       " 'chocolate marshmallow': 89,\n",
       " 'ice cream': 246,\n",
       " 'frozen vegetables': 473,\n",
       " 'canned fish': 148,\n",
       " 'seasonal products': 140,\n",
       " 'curd cheese': 50,\n",
       " 'red/blush wine': 189,\n",
       " 'frozen potato products': 83,\n",
       " 'specialty fat': 36,\n",
       " 'specialty chocolate': 299,\n",
       " 'candles': 88,\n",
       " 'flower (seeds)': 102,\n",
       " 'sparkling wine': 55,\n",
       " 'salt': 106,\n",
       " 'frozen meals': 279,\n",
       " 'canned vegetables': 106,\n",
       " 'onions': 305,\n",
       " 'herbs': 160,\n",
       " 'white wine': 187,\n",
       " 'brandy': 41,\n",
       " 'photo/film': 91,\n",
       " 'sliced cheese': 241,\n",
       " 'pasta': 148,\n",
       " 'softener': 54,\n",
       " 'cling film/bags': 112,\n",
       " 'fish': 29,\n",
       " 'male cosmetics': 45,\n",
       " 'canned fruit': 32,\n",
       " 'Instant food products': 79,\n",
       " 'soft cheese': 168,\n",
       " 'honey': 15,\n",
       " 'dental care': 57,\n",
       " 'popcorn': 71,\n",
       " 'cake bar': 130,\n",
       " 'snack products': 30,\n",
       " 'flower soil/fertilizer': 19,\n",
       " 'specialty cheese': 84,\n",
       " 'finished products': 64,\n",
       " 'cocoa drinks': 22,\n",
       " 'dog food': 84,\n",
       " 'prosecco': 20,\n",
       " 'frozen fish': 115,\n",
       " 'make up remover': 8,\n",
       " 'cleaner': 50,\n",
       " 'female sanitary products': 60,\n",
       " 'dish cleaner': 103,\n",
       " 'cookware': 27,\n",
       " 'meat': 254,\n",
       " 'tea': 38,\n",
       " 'mustard': 118,\n",
       " 'house keeping products': 82,\n",
       " 'skin care': 35,\n",
       " 'potato products': 28,\n",
       " 'liquor': 109,\n",
       " 'pet care': 93,\n",
       " 'soups': 67,\n",
       " 'rum': 44,\n",
       " 'salad dressing': 8,\n",
       " 'sauces': 54,\n",
       " 'vinegar': 64,\n",
       " 'soap': 26,\n",
       " 'hair spray': 11,\n",
       " 'instant coffee': 73,\n",
       " 'roll products': 101,\n",
       " 'mayonnaise': 90,\n",
       " 'rubbing alcohol': 10,\n",
       " 'syrup': 32,\n",
       " 'liver loaf': 50,\n",
       " 'baby cosmetics': 6,\n",
       " 'organic products': 16,\n",
       " 'nut snack': 31,\n",
       " 'kitchen towels': 59,\n",
       " 'frozen chicken': 6,\n",
       " 'light bulbs': 41,\n",
       " 'ketchup': 42,\n",
       " 'jam': 53,\n",
       " 'decalcifier': 15,\n",
       " 'nuts/prunes': 33,\n",
       " 'liqueur': 9,\n",
       " 'organic sausage': 22,\n",
       " 'cream': 13,\n",
       " 'toilet cleaner': 7,\n",
       " 'specialty vegetables': 17,\n",
       " 'baby food': 1,\n",
       " 'pudding powder': 23,\n",
       " 'tidbits': 23,\n",
       " 'whisky': 8,\n",
       " 'frozen fruits': 12,\n",
       " 'bags': 4,\n",
       " 'cooking chocolate': 25,\n",
       " 'sound storage medium': 1,\n",
       " 'kitchen utensil': 4,\n",
       " 'preservation products': 2}"
      ]
     },
     "execution_count": 5,
     "metadata": {},
     "output_type": "execute_result"
    }
   ],
   "source": [
    "d={}\n",
    "for i in range (len(list1)):\n",
    "    for j in range(len(list1[i])):\n",
    "        if list1[i][j] not in d:\n",
    "            d[list1[i][j]] = 1\n",
    "        else:    \n",
    "            d[list1[i][j]] += 1\n",
    "d            "
   ]
  },
  {
   "cell_type": "code",
   "execution_count": 9,
   "metadata": {},
   "outputs": [],
   "source": [
    "sorted_dictionary={}\n",
    "for w in sorted(d, key=d.get, reverse=True):\n",
    "    sorted_dictionary[w]=d[w]\n",
    "#sorted_dictionary    "
   ]
  },
  {
   "cell_type": "code",
   "execution_count": 10,
   "metadata": {},
   "outputs": [
    {
     "data": {
      "text/plain": [
       "{'whole milk': 0.2555,\n",
       " 'other vegetables': 0.1935,\n",
       " 'rolls/buns': 0.1839,\n",
       " 'soda': 0.1744,\n",
       " 'yogurt': 0.1395,\n",
       " 'bottled water': 0.1105,\n",
       " 'root vegetables': 0.109,\n",
       " 'tropical fruit': 0.1049,\n",
       " 'shopping bags': 0.0985,\n",
       " 'sausage': 0.094,\n",
       " 'pastry': 0.089,\n",
       " 'citrus fruit': 0.0828,\n",
       " 'bottled beer': 0.0805,\n",
       " 'newspapers': 0.0798,\n",
       " 'canned beer': 0.0777,\n",
       " 'pip fruit': 0.0756,\n",
       " 'fruit/vegetable juice': 0.0723,\n",
       " 'whipped/sour cream': 0.0717,\n",
       " 'brown bread': 0.0649,\n",
       " 'domestic eggs': 0.0634,\n",
       " 'frankfurter': 0.059,\n",
       " 'margarine': 0.0586,\n",
       " 'coffee': 0.0581,\n",
       " 'pork': 0.0577,\n",
       " 'butter': 0.0554,\n",
       " 'curd': 0.0533,\n",
       " 'beef': 0.0525,\n",
       " 'napkins': 0.0524,\n",
       " 'chocolate': 0.0496,\n",
       " 'frozen vegetables': 0.0481,\n",
       " 'chicken': 0.0429,\n",
       " 'white bread': 0.0421,\n",
       " 'cream cheese': 0.0397,\n",
       " 'waffles': 0.0384,\n",
       " 'salty snack': 0.0378,\n",
       " 'long life bakery product': 0.0374,\n",
       " 'dessert': 0.0371,\n",
       " 'sugar': 0.0339,\n",
       " 'UHT-milk': 0.0335,\n",
       " 'hamburger meat': 0.0332,\n",
       " 'berries': 0.0332,\n",
       " 'hygiene articles': 0.0329,\n",
       " 'onions': 0.031,\n",
       " 'specialty chocolate': 0.0304,\n",
       " 'candy': 0.0299,\n",
       " 'misc. beverages': 0.0284,\n",
       " 'frozen meals': 0.0284,\n",
       " 'oil': 0.0281,\n",
       " 'butter milk': 0.028,\n",
       " 'specialty bar': 0.0274,\n",
       " 'beverages': 0.026,\n",
       " 'ham': 0.026,\n",
       " 'meat': 0.0258,\n",
       " 'ice cream': 0.025,\n",
       " 'hard cheese': 0.0245,\n",
       " 'sliced cheese': 0.0245,\n",
       " 'cat food': 0.0233,\n",
       " 'grapes': 0.0224,\n",
       " 'chewing gum': 0.021,\n",
       " 'detergent': 0.0192,\n",
       " 'red/blush wine': 0.0192,\n",
       " 'white wine': 0.019,\n",
       " 'pickled vegetables': 0.0179,\n",
       " 'semi-finished bread': 0.0177,\n",
       " 'baking powder': 0.0177,\n",
       " 'dishes': 0.0176,\n",
       " 'flour': 0.0174,\n",
       " 'potted plants': 0.0173,\n",
       " 'soft cheese': 0.0171,\n",
       " 'processed cheese': 0.0166,\n",
       " 'herbs': 0.0163,\n",
       " 'canned fish': 0.015,\n",
       " 'pasta': 0.015,\n",
       " 'seasonal products': 0.0142,\n",
       " 'cake bar': 0.0132,\n",
       " 'packaged fruit/vegetables': 0.013,\n",
       " 'mustard': 0.012,\n",
       " 'frozen fish': 0.0117,\n",
       " 'cling film/bags': 0.0114,\n",
       " 'spread cheese': 0.0112,\n",
       " 'liquor': 0.0111,\n",
       " 'frozen dessert': 0.0108,\n",
       " 'salt': 0.0108,\n",
       " 'canned vegetables': 0.0108,\n",
       " 'dish cleaner': 0.0105,\n",
       " 'flower (seeds)': 0.0104,\n",
       " 'condensed milk': 0.0103,\n",
       " 'roll products': 0.0103,\n",
       " 'pet care': 0.0095,\n",
       " 'photo/film': 0.0093,\n",
       " 'mayonnaise': 0.0092,\n",
       " 'sweet spreads': 0.009,\n",
       " 'chocolate marshmallow': 0.009,\n",
       " 'candles': 0.0089,\n",
       " 'specialty cheese': 0.0085,\n",
       " 'dog food': 0.0085,\n",
       " 'frozen potato products': 0.0084,\n",
       " 'house keeping products': 0.0083,\n",
       " 'turkey': 0.0081,\n",
       " 'Instant food products': 0.008,\n",
       " 'liquor (appetizer)': 0.0079,\n",
       " 'rice': 0.0076,\n",
       " 'instant coffee': 0.0074,\n",
       " 'popcorn': 0.0072,\n",
       " 'zwieback': 0.0069,\n",
       " 'soups': 0.0068,\n",
       " 'finished products': 0.0065,\n",
       " 'vinegar': 0.0065,\n",
       " 'female sanitary products': 0.0061,\n",
       " 'kitchen towels': 0.006,\n",
       " 'dental care': 0.0058,\n",
       " 'cereals': 0.0057,\n",
       " 'sparkling wine': 0.0056,\n",
       " 'softener': 0.0055,\n",
       " 'sauces': 0.0055,\n",
       " 'jam': 0.0054,\n",
       " 'spices': 0.0052,\n",
       " 'curd cheese': 0.0051,\n",
       " 'cleaner': 0.0051,\n",
       " 'liver loaf': 0.0051,\n",
       " 'male cosmetics': 0.0046,\n",
       " 'rum': 0.0045,\n",
       " 'meat spreads': 0.0043,\n",
       " 'ketchup': 0.0043,\n",
       " 'brandy': 0.0042,\n",
       " 'light bulbs': 0.0042,\n",
       " 'tea': 0.0039,\n",
       " 'specialty fat': 0.0037,\n",
       " 'abrasive cleaner': 0.0036,\n",
       " 'skin care': 0.0036,\n",
       " 'nuts/prunes': 0.0034,\n",
       " 'artif. sweetener': 0.0033,\n",
       " 'canned fruit': 0.0033,\n",
       " 'syrup': 0.0033,\n",
       " 'nut snack': 0.0032,\n",
       " 'snack products': 0.0031,\n",
       " 'fish': 0.0029,\n",
       " 'potato products': 0.0028,\n",
       " 'bathroom cleaner': 0.0027,\n",
       " 'cookware': 0.0027,\n",
       " 'soap': 0.0026,\n",
       " 'cooking chocolate': 0.0025,\n",
       " 'pudding powder': 0.0023,\n",
       " 'tidbits': 0.0023,\n",
       " 'cocoa drinks': 0.0022,\n",
       " 'organic sausage': 0.0022,\n",
       " 'prosecco': 0.002,\n",
       " 'flower soil/fertilizer': 0.0019,\n",
       " 'ready soups': 0.0018,\n",
       " 'specialty vegetables': 0.0017,\n",
       " 'organic products': 0.0016,\n",
       " 'honey': 0.0015,\n",
       " 'decalcifier': 0.0015,\n",
       " 'cream': 0.0013,\n",
       " 'frozen fruits': 0.0012,\n",
       " 'hair spray': 0.0011,\n",
       " 'rubbing alcohol': 0.001,\n",
       " 'liqueur': 0.0009,\n",
       " 'make up remover': 0.0008,\n",
       " 'salad dressing': 0.0008,\n",
       " 'whisky': 0.0008,\n",
       " 'toilet cleaner': 0.0007,\n",
       " 'baby cosmetics': 0.0006,\n",
       " 'frozen chicken': 0.0006,\n",
       " 'bags': 0.0004,\n",
       " 'kitchen utensil': 0.0004,\n",
       " 'preservation products': 0.0002,\n",
       " 'baby food': 0.0001,\n",
       " 'sound storage medium': 0.0001}"
      ]
     },
     "execution_count": 10,
     "metadata": {},
     "output_type": "execute_result"
    }
   ],
   "source": [
    "support={}\n",
    "for dic in sorted_dictionary:\n",
    "    support[dic]=float(\"{0:.4f}\".format(sorted_dictionary[dic]/len(list1)))\n",
    "support    "
   ]
  },
  {
   "cell_type": "code",
   "execution_count": 11,
   "metadata": {},
   "outputs": [],
   "source": [
    "filtered={}\n",
    "for sup in support:\n",
    "    if support[sup]>=.1:\n",
    "        filtered[sup]=support[sup]\n",
    "        "
   ]
  },
  {
   "cell_type": "code",
   "execution_count": 12,
   "metadata": {},
   "outputs": [
    {
     "data": {
      "text/plain": [
       "{'whole milk': 0.2555,\n",
       " 'other vegetables': 0.1935,\n",
       " 'rolls/buns': 0.1839,\n",
       " 'soda': 0.1744,\n",
       " 'yogurt': 0.1395,\n",
       " 'bottled water': 0.1105,\n",
       " 'root vegetables': 0.109,\n",
       " 'tropical fruit': 0.1049}"
      ]
     },
     "execution_count": 12,
     "metadata": {},
     "output_type": "execute_result"
    }
   ],
   "source": [
    "filtered"
   ]
  },
  {
   "cell_type": "code",
   "execution_count": 8,
   "metadata": {},
   "outputs": [],
   "source": [
    "f={}\n",
    "c1=0\n",
    "c2=0\n",
    "c3=0\n",
    "c4=0\n",
    "c5=0\n",
    "c6=0\n",
    "c7=0\n",
    "c8=0\n",
    "for i in range(len(list1)):\n",
    "    if 'whole milk' and 'other vegetables' in list1[i]:\n",
    "        c1+=1   \n",
    "    elif 'rolls/buns' and 'other vegetables' in list1[i]:\n",
    "          c2+= 1\n",
    "    elif 'rolls/buns' and 'other vegetables' in list1[i]:\n",
    "          c3+=1\n",
    "    elif 'rolls/buns' and 'soda' in list1[i]:\n",
    "          c4+=1          \n",
    "    elif 'yogurt' and 'soda' in list1[i]:\n",
    "          c5+=1    \n",
    "    elif 'yogurt' and 'bottled water' in list1[i]:\n",
    "          c6+=1 \n",
    "    elif 'root vegetables' and 'bottled water' in list1[i]:\n",
    "          c7+=1      \n",
    "    elif 'root vegetables' and 'tropical fruit' in list1[i]:\n",
    "          c8+=1   "
   ]
  },
  {
   "cell_type": "code",
   "execution_count": 9,
   "metadata": {},
   "outputs": [],
   "source": [
    "l1=[c1,c2,c3,c4,c5,c6,c7,c8]"
   ]
  },
  {
   "cell_type": "code",
   "execution_count": 10,
   "metadata": {},
   "outputs": [],
   "source": [
    "l2=[]\n",
    "for x in l1:\n",
    "    l2.append(float(\"{0:.4f}\".format(x/len(list1))))"
   ]
  },
  {
   "cell_type": "code",
   "execution_count": 11,
   "metadata": {},
   "outputs": [
    {
     "data": {
      "text/plain": [
       "[0.1935, 0.0, 0.0, 0.1416, 0.0, 0.0624, 0.0, 0.0468]"
      ]
     },
     "execution_count": 11,
     "metadata": {},
     "output_type": "execute_result"
    }
   ],
   "source": [
    "l2"
   ]
  },
  {
   "cell_type": "code",
   "execution_count": 12,
   "metadata": {},
   "outputs": [],
   "source": [
    "l3=[]\n",
    "for k in l2:\n",
    "    if k >=.1:\n",
    "        l3.append(k)    "
   ]
  },
  {
   "cell_type": "code",
   "execution_count": 13,
   "metadata": {},
   "outputs": [
    {
     "name": "stdout",
     "output_type": "stream",
     "text": [
      "[0.1935, 0.1416]\n"
     ]
    }
   ],
   "source": [
    "print(l3)"
   ]
  },
  {
   "cell_type": "code",
   "execution_count": 14,
   "metadata": {},
   "outputs": [],
   "source": [
    "c9=0\n",
    "c10=0\n",
    "c11=0\n",
    "c12=0\n",
    "for i in range(len(list1)):\n",
    "    if 'whole milk' and 'other vegetables' and 'rolls/buns' in list1[i]:\n",
    "        c9+=1\n",
    "    elif 'whole milk' and 'other vegetables' and 'soda' in list1[i]: \n",
    "        c10+=1\n",
    "    elif 'rolls/buns' and 'soda' and 'whole milk' in list1[i]:\n",
    "        c11+=1\n",
    "    elif 'rolls/buns' and 'soda' and 'other vegetables' in list1[i]:    \n",
    "        c12+=1"
   ]
  },
  {
   "cell_type": "code",
   "execution_count": 15,
   "metadata": {},
   "outputs": [],
   "source": [
    "l4=[c9,c10,c11,c12]"
   ]
  },
  {
   "cell_type": "code",
   "execution_count": 17,
   "metadata": {},
   "outputs": [],
   "source": [
    "l5=[]\n",
    "for x in l4:\n",
    "    l5.append(float(\"{0:.4f}\".format(x/len(list1))))"
   ]
  },
  {
   "cell_type": "code",
   "execution_count": 19,
   "metadata": {},
   "outputs": [],
   "source": [
    "c13=0\n",
    "c14=0\n",
    "for i in range(len(list1)):\n",
    "    if 'whole milk' and 'other vegetables' and 'rolls/buns' and 'soda' in list1[i]:\n",
    "        c13+=1"
   ]
  },
  {
   "cell_type": "code",
   "execution_count": 22,
   "metadata": {},
   "outputs": [],
   "source": [
    "final_support=float(\"{0:.4f}\".format(c13/len(list1)))"
   ]
  },
  {
   "cell_type": "code",
   "execution_count": 31,
   "metadata": {},
   "outputs": [],
   "source": [
    "confidence_list=[float(\"{0:.4f}\".format(c13/d['whole milk'])),float(\"{0:.4f}\".format(final_support/d['other vegetables'])),float(\"{0:.4f}\".format(c13/d['rolls/buns'])),float(\"{0:.4f}\".format(c13/d['soda' ]))]"
   ]
  },
  {
   "cell_type": "code",
   "execution_count": 32,
   "metadata": {},
   "outputs": [
    {
     "data": {
      "text/plain": [
       "[0.6825, 0.0001, 0.948, 1.0]"
      ]
     },
     "execution_count": 32,
     "metadata": {},
     "output_type": "execute_result"
    }
   ],
   "source": [
    "confidence_list"
   ]
  },
  {
   "cell_type": "code",
   "execution_count": 39,
   "metadata": {},
   "outputs": [],
   "source": [
    "confidence_dictionary={'confidence_whole_milk':confidence_list[0],'confidence_list_other_vegetable':confidence_list[1],'confidence_rolls/buns':confidence_list[2],'confidence_soda':confidence_list[3]}"
   ]
  },
  {
   "cell_type": "code",
   "execution_count": 41,
   "metadata": {},
   "outputs": [
    {
     "data": {
      "text/plain": [
       "{'confidence_whole_milk': 0.6825,\n",
       " 'confidence_list_other_vegetable': 0.0001,\n",
       " 'confidence_rolls/buns': 0.948,\n",
       " 'confidence_soda': 1.0}"
      ]
     },
     "execution_count": 41,
     "metadata": {},
     "output_type": "execute_result"
    }
   ],
   "source": [
    "confidence_dictionary"
   ]
  },
  {
   "cell_type": "code",
   "execution_count": 45,
   "metadata": {},
   "outputs": [],
   "source": [
    "#lift={}\n",
    "#lift['lift_whole_milk']=confidence_dictionary['confidence_whole_milk']/(filtered['rolls/buns']*filtered['other vegetables']*filtered['soda'])"
   ]
  },
  {
   "cell_type": "code",
   "execution_count": null,
   "metadata": {},
   "outputs": [],
   "source": []
  }
 ],
 "metadata": {
  "kernelspec": {
   "display_name": "Python 3",
   "language": "python",
   "name": "python3"
  },
  "language_info": {
   "codemirror_mode": {
    "name": "ipython",
    "version": 3
   },
   "file_extension": ".py",
   "mimetype": "text/x-python",
   "name": "python",
   "nbconvert_exporter": "python",
   "pygments_lexer": "ipython3",
   "version": "3.6.7"
  }
 },
 "nbformat": 4,
 "nbformat_minor": 2
}
